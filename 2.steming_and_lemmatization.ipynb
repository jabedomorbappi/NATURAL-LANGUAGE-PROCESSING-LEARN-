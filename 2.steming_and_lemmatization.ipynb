{
  "nbformat": 4,
  "nbformat_minor": 0,
  "metadata": {
    "colab": {
      "provenance": [],
      "authorship_tag": "ABX9TyPVhLC2oftDCmtNZkjF98Er",
      "include_colab_link": true
    },
    "kernelspec": {
      "name": "python3",
      "display_name": "Python 3"
    },
    "language_info": {
      "name": "python"
    }
  },
  "cells": [
    {
      "cell_type": "markdown",
      "metadata": {
        "id": "view-in-github",
        "colab_type": "text"
      },
      "source": [
        "<a href=\"https://colab.research.google.com/github/jabedomorbappi/NATURAL-LANGUAGE-PROCESSING-LEARN-/blob/main/2.steming_and_lemmatization.ipynb\" target=\"_parent\"><img src=\"https://colab.research.google.com/assets/colab-badge.svg\" alt=\"Open In Colab\"/></a>"
      ]
    },
    {
      "cell_type": "code",
      "execution_count": null,
      "metadata": {
        "colab": {
          "base_uri": "https://localhost:8080/"
        },
        "id": "gIwsSKC5OJtL",
        "outputId": "38ff1d20-b178-4a67-9016-4c91d0962256"
      },
      "outputs": [
        {
          "output_type": "stream",
          "name": "stdout",
          "text": [
            "Requirement already satisfied: nltk in /usr/local/lib/python3.10/dist-packages (3.8.1)\n",
            "Requirement already satisfied: click in /usr/local/lib/python3.10/dist-packages (from nltk) (8.1.7)\n",
            "Requirement already satisfied: joblib in /usr/local/lib/python3.10/dist-packages (from nltk) (1.3.2)\n",
            "Requirement already satisfied: regex>=2021.8.3 in /usr/local/lib/python3.10/dist-packages (from nltk) (2023.6.3)\n",
            "Requirement already satisfied: tqdm in /usr/local/lib/python3.10/dist-packages (from nltk) (4.66.1)\n"
          ]
        }
      ],
      "source": [
        "!pip install nltk\n",
        "\n"
      ]
    },
    {
      "cell_type": "code",
      "source": [
        "from nltk.stem import PorterStemmer\n",
        "import nltk\n",
        "from nltk.tokenize import word_tokenize, sent_tokenize\n",
        "import nltk\n",
        "from nltk.corpus import stopwords\n",
        "\n",
        "nltk.download('stopwords')\n",
        "nltk.download('punkt')\n",
        "\n",
        "# Initialize the Porter Stemmer\n",
        "stemmer = PorterStemmer()"
      ],
      "metadata": {
        "colab": {
          "base_uri": "https://localhost:8080/"
        },
        "id": "QbzH4EgDPQkl",
        "outputId": "35df3a56-36ed-4182-88c5-b02f89c447ce"
      },
      "execution_count": null,
      "outputs": [
        {
          "output_type": "stream",
          "name": "stderr",
          "text": [
            "[nltk_data] Downloading package stopwords to /root/nltk_data...\n",
            "[nltk_data]   Unzipping corpora/stopwords.zip.\n",
            "[nltk_data] Downloading package punkt to /root/nltk_data...\n",
            "[nltk_data]   Package punkt is already up-to-date!\n"
          ]
        }
      ]
    },
    {
      "cell_type": "code",
      "source": [
        "words = [\"running\", \"flies\", \"happily\", \"jumps\", \"better\"]"
      ],
      "metadata": {
        "id": "3ePQPWi2Pe2d"
      },
      "execution_count": null,
      "outputs": []
    },
    {
      "cell_type": "code",
      "source": [
        "[stemmer.stem(word) for word in words]"
      ],
      "metadata": {
        "colab": {
          "base_uri": "https://localhost:8080/"
        },
        "id": "RyudtoboPiFF",
        "outputId": "14e84975-5e82-401b-f1f0-1df0e8cc0cea"
      },
      "execution_count": null,
      "outputs": [
        {
          "output_type": "execute_result",
          "data": {
            "text/plain": [
              "['run', 'fli', 'happili', 'jump', 'better']"
            ]
          },
          "metadata": {},
          "execution_count": 6
        }
      ]
    },
    {
      "cell_type": "code",
      "source": [
        "sentence='A paragraph is defined as “a group of sentences or a single sentence that forms a unit” (Lunsford and Connors 116). Length and appearance do not determine whether a section in a paper is a paragraph. For instance, in some styles of writing, particularly journalistic styles, a paragraph can be just one sentence long.'\n"
      ],
      "metadata": {
        "id": "eW0cBBhVPnEC"
      },
      "execution_count": null,
      "outputs": []
    },
    {
      "cell_type": "code",
      "source": [
        "word=word_tokenize(sentence)\n",
        "word=list(word)\n",
        "word\n"
      ],
      "metadata": {
        "colab": {
          "base_uri": "https://localhost:8080/"
        },
        "id": "ng3GHwzsQbHc",
        "outputId": "198fa2bb-fc44-44f6-8f1d-7696531c298c"
      },
      "execution_count": null,
      "outputs": [
        {
          "output_type": "execute_result",
          "data": {
            "text/plain": [
              "['A',\n",
              " 'paragraph',\n",
              " 'is',\n",
              " 'defined',\n",
              " 'as',\n",
              " '“',\n",
              " 'a',\n",
              " 'group',\n",
              " 'of',\n",
              " 'sentences',\n",
              " 'or',\n",
              " 'a',\n",
              " 'single',\n",
              " 'sentence',\n",
              " 'that',\n",
              " 'forms',\n",
              " 'a',\n",
              " 'unit',\n",
              " '”',\n",
              " '(',\n",
              " 'Lunsford',\n",
              " 'and',\n",
              " 'Connors',\n",
              " '116',\n",
              " ')',\n",
              " '.',\n",
              " 'Length',\n",
              " 'and',\n",
              " 'appearance',\n",
              " 'do',\n",
              " 'not',\n",
              " 'determine',\n",
              " 'whether',\n",
              " 'a',\n",
              " 'section',\n",
              " 'in',\n",
              " 'a',\n",
              " 'paper',\n",
              " 'is',\n",
              " 'a',\n",
              " 'paragraph',\n",
              " '.',\n",
              " 'For',\n",
              " 'instance',\n",
              " ',',\n",
              " 'in',\n",
              " 'some',\n",
              " 'styles',\n",
              " 'of',\n",
              " 'writing',\n",
              " ',',\n",
              " 'particularly',\n",
              " 'journalistic',\n",
              " 'styles',\n",
              " ',',\n",
              " 'a',\n",
              " 'paragraph',\n",
              " 'can',\n",
              " 'be',\n",
              " 'just',\n",
              " 'one',\n",
              " 'sentence',\n",
              " 'long',\n",
              " '.']"
            ]
          },
          "metadata": {},
          "execution_count": 11
        }
      ]
    },
    {
      "cell_type": "code",
      "source": [
        "stop_words=set(stopwords.words('english'))\n",
        "filtered=[w for w in word if not w.lower() in stop_words]\n",
        "filtered"
      ],
      "metadata": {
        "colab": {
          "base_uri": "https://localhost:8080/"
        },
        "id": "3ZwJRsFQQgvg",
        "outputId": "973d7ba7-0396-498e-8d1a-8fb8b59cdd62"
      },
      "execution_count": null,
      "outputs": [
        {
          "output_type": "execute_result",
          "data": {
            "text/plain": [
              "['paragraph',\n",
              " 'defined',\n",
              " '“',\n",
              " 'group',\n",
              " 'sentences',\n",
              " 'single',\n",
              " 'sentence',\n",
              " 'forms',\n",
              " 'unit',\n",
              " '”',\n",
              " '(',\n",
              " 'Lunsford',\n",
              " 'Connors',\n",
              " '116',\n",
              " ')',\n",
              " '.',\n",
              " 'Length',\n",
              " 'appearance',\n",
              " 'determine',\n",
              " 'whether',\n",
              " 'section',\n",
              " 'paper',\n",
              " 'paragraph',\n",
              " '.',\n",
              " 'instance',\n",
              " ',',\n",
              " 'styles',\n",
              " 'writing',\n",
              " ',',\n",
              " 'particularly',\n",
              " 'journalistic',\n",
              " 'styles',\n",
              " ',',\n",
              " 'paragraph',\n",
              " 'one',\n",
              " 'sentence',\n",
              " 'long',\n",
              " '.']"
            ]
          },
          "metadata": {},
          "execution_count": 22
        }
      ]
    },
    {
      "cell_type": "code",
      "source": [
        "[stemmer.stem(words) for words in filtered]"
      ],
      "metadata": {
        "colab": {
          "base_uri": "https://localhost:8080/"
        },
        "id": "LpootO5VQ5Xa",
        "outputId": "8827750c-8c45-48c4-9d60-5179091d45e1"
      },
      "execution_count": null,
      "outputs": [
        {
          "output_type": "execute_result",
          "data": {
            "text/plain": [
              "['paragraph',\n",
              " 'defin',\n",
              " '“',\n",
              " 'group',\n",
              " 'sentenc',\n",
              " 'singl',\n",
              " 'sentenc',\n",
              " 'form',\n",
              " 'unit',\n",
              " '”',\n",
              " '(',\n",
              " 'lunsford',\n",
              " 'connor',\n",
              " '116',\n",
              " ')',\n",
              " '.',\n",
              " 'length',\n",
              " 'appear',\n",
              " 'determin',\n",
              " 'whether',\n",
              " 'section',\n",
              " 'paper',\n",
              " 'paragraph',\n",
              " '.',\n",
              " 'instanc',\n",
              " ',',\n",
              " 'style',\n",
              " 'write',\n",
              " ',',\n",
              " 'particularli',\n",
              " 'journalist',\n",
              " 'style',\n",
              " ',',\n",
              " 'paragraph',\n",
              " 'one',\n",
              " 'sentenc',\n",
              " 'long',\n",
              " '.']"
            ]
          },
          "metadata": {},
          "execution_count": 23
        }
      ]
    },
    {
      "cell_type": "code",
      "source": [
        "!pip install bangla-stemmer"
      ],
      "metadata": {
        "colab": {
          "base_uri": "https://localhost:8080/"
        },
        "id": "yNNq9B0RUzS4",
        "outputId": "141437d3-76b3-494a-8c9d-661d0b0534af"
      },
      "execution_count": null,
      "outputs": [
        {
          "output_type": "stream",
          "name": "stdout",
          "text": [
            "Collecting bangla-stemmer\n",
            "  Downloading bangla_stemmer-1.0-py3-none-any.whl (9.1 kB)\n",
            "Installing collected packages: bangla-stemmer\n",
            "Successfully installed bangla-stemmer-1.0\n"
          ]
        }
      ]
    },
    {
      "cell_type": "code",
      "source": [
        "from bangla_stemmer.stemmer import stemmer\n",
        "wordlist = ['কবিরগুলিকে', 'আমাকে', 'নামাবার']\n",
        "stmr = stemmer.BanglaStemmer()\n",
        "stm = stmr.stem(wordlist)\n",
        "print(stm)"
      ],
      "metadata": {
        "colab": {
          "base_uri": "https://localhost:8080/"
        },
        "id": "cMt9Z8zIVF4O",
        "outputId": "2e4ccf22-60ac-4e56-a0dd-57f8ab0968ac"
      },
      "execution_count": null,
      "outputs": [
        {
          "output_type": "stream",
          "name": "stdout",
          "text": [
            "applied first rules..\n",
            "applied third rules..\n",
            "applied first rules..\n",
            "applied fourth rules..\n",
            "['কবির', 'আমা', 'নামা']\n"
          ]
        }
      ]
    },
    {
      "cell_type": "code",
      "source": [],
      "metadata": {
        "id": "kNUdOmIFVc69"
      },
      "execution_count": null,
      "outputs": []
    }
  ]
}